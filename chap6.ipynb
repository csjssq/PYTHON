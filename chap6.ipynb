{
 "cells": [
  {
   "cell_type": "code",
   "execution_count": null,
   "metadata": {},
   "outputs": [],
   "source": [
    "# Ajax加载"
   ]
  },
  {
   "cell_type": "code",
   "execution_count": null,
   "metadata": {},
   "outputs": [],
   "source": [
    "## (1) 发送请求\n",
    "## (2) 解析内容\n",
    "## (3) 渲染网页"
   ]
  },
  {
   "cell_type": "code",
   "execution_count": null,
   "metadata": {},
   "outputs": [],
   "source": [
    "### 现在大多数网页利用ajax原因\n",
    "    使用Ajax的主要原因  \n",
    "　　1、通过适当的Ajax应用达到更好的用户体验；  \n",
    "　　2、把以前的一些服务器负担的工作转嫁到客户端，利于客户端闲置的处理能力来处理，减轻服务器和带宽的负担，从而达到节约ISP的空间及带宽租用成本的目的。"
   ]
  },
  {
   "cell_type": "code",
   "execution_count": null,
   "metadata": {},
   "outputs": [],
   "source": [
    "from urllib.parse import urlencode\n",
    "import requests\n",
    "from pyquery import PyQuery as pq\n",
    "base_url = 'https://m.weibo.cn/api/container/getIndex?'\n",
    "\n",
    "headers ={\n",
    "    'Host' : 'm.weibo.cn',\n",
    "    'Referer':'https://m.weibo.cn/u/2830678474',\n",
    "    'User-Agent':'Mozilla/5.0 (Windows NT 10.0; Win64; x64) AppleWebKit/537.36 (KHTML, like Gecko) Chrome/83.0.4103.116 Safari/537.36',\n",
    "    'X-Requested-With':'XMLHttpRequest',\n",
    "}\n",
    "\n",
    "def get_page(since_id):\n",
    "    params = {\n",
    "        'type':'uid',\n",
    "        'value':'2830678474',\n",
    "        'containerid':'1005052830678474',\n",
    "    }\n",
    "    if since_id !=0:\n",
    "       params['since_id'] = since_id\n",
    "    url = base_url + urlencode(params)\n",
    "    try :\n",
    "        response = requests.get(url, headers = headers)\n",
    "        if response.status_code == 200:\n",
    "            return response.json()\n",
    "    except requests.ConnectionError as e:\n",
    "        print('Error', e.args)\n",
    "\n",
    "def parse_page(json):\n",
    "    if json :\n",
    "        items = json.get('data').get('cards')\n",
    "        for item in items:\n",
    "            item = item.get('mblog')\n",
    "            weibo = {}\n",
    "            weibo['id'] = item.get('id')\n",
    "            weibo['text'] = pq(item.get('text')).text()\n",
    "            weibo['attitudes'] = item.get('attitudes_count')\n",
    "            weibo['comments'] = item.get('comments_count')\n",
    "            weibo['reposts'] = items.get('reposts_count')\n",
    "            yield weibo\n",
    "\n",
    "if __name__ == '__main__':\n",
    "    since_id = 0\n",
    "    for page in range(1,max_page+1):\n",
    "        json = get_page(since_id)\n",
    "        since_id = json.get('data').get('cardlistinfo').get('since_id')\n",
    "        results = parse_page(json)\n",
    "        for result in results:\n",
    "            with open('weibocui.json','w') as file:\n",
    "                file.write(json.dumps(result, indent = 2))\n",
    "            print(result)"
   ]
  }
 ],
 "metadata": {
  "language_info": {
   "codemirror_mode": {
    "name": "ipython",
    "version": 3
   },
   "file_extension": ".py",
   "mimetype": "text/x-python",
   "name": "python",
   "nbconvert_exporter": "python",
   "pygments_lexer": "ipython3",
   "version": 3
  },
  "orig_nbformat": 2
 },
 "nbformat": 4,
 "nbformat_minor": 2
}
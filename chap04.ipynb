{
 "cells": [
  {
   "cell_type": "code",
   "execution_count": null,
   "metadata": {},
   "outputs": [],
   "source": [
    "# 解析库的使用 \n",
    "## XPath或CSS选择器"
   ]
  },
  {
   "cell_type": "code",
   "execution_count": null,
   "metadata": {},
   "outputs": [],
   "source": [
    "#XPath XML Path Language 用于在XML文档中查找信息的语言\n",
    "'''nodename 选取此节点的所有子节点\n",
    "   /        从当前节点选取直接子节点\n",
    "   //       从当前节点选取子孙节点 \n",
    "   .        选取当前节点\n",
    "   ..       选取当前节点的父节点\n",
    "   @        选取属性\n",
    " \n",
    "   比如 //title[@lang='eng'] 即选择所有名称为title，属性lang值为eng的节点\n",
    "'''"
   ]
  },
  {
   "cell_type": "code",
   "execution_count": null,
   "metadata": {
    "tags": []
   },
   "outputs": [],
   "source": [
    "from lxml import etree\n",
    "text = '''\n",
    "<div>\n",
    "<ul>\n",
    "<li class=\"item-0\"><a href=\"link1.html\">first item</a></li>\n",
    "<li class=\"item-1\"><a href=\"link2.html\">second item</a></li>\n",
    "<li class=\"item-inactive\"><a href=\"link3.html\">third item</a></li>\n",
    "<li class=\"item-1\"><a href=\"link4.html\">forth item</a></li>\n",
    "</ul>\n",
    "</div>\n",
    "'''\n",
    "html = etree.HTML(text)\n",
    "result = etree.tostring(html)\n",
    "print(result.decode('utf-8'))"
   ]
  },
  {
   "cell_type": "code",
   "execution_count": null,
   "metadata": {},
   "outputs": [],
   "source": [
    "# Beautiful Soup"
   ]
  },
  {
   "cell_type": "code",
   "execution_count": null,
   "metadata": {
    "tags": []
   },
   "outputs": [],
   "source": [
    "html = \"\"\"\n",
    "<html><head><title>The Dormouse's story</title></head>\n",
    "<body>\n",
    "<p class=\"title\" name=\"dromouse\"><b>The Dormouse's story</b></p>\n",
    "<p class=\"story\">Once upon a title there were three little sisters; and their names were\n",
    "<a href=\"http://example.com/elsie\" class=\"sister\" id=\"link1\"><!-- Elsie --></a>,\n",
    "<a href=\"http://example.com/lacie\" class=\"sister\" id=\"link2\">Lacie</a> and\n",
    "<a href=\"http://example.com/tillie\" class=\"sister\" id=\"link3\">Tillie</a>;\n",
    "and they lived at the bottom of a well.</p>\n",
    "<p class=\"story\">...</p>\n",
    "\"\"\"\n",
    "\n",
    "from bs4 import BeautifulSoup\n",
    "soup = BeautifulSoup(html, 'lxml')\n",
    "#print(soup.prettify())\n",
    "#print(soup.title.string)\n",
    "print(soup.head)\n",
    "print(soup.p)"
   ]
  },
  {
   "cell_type": "code",
   "execution_count": null,
   "metadata": {},
   "outputs": [],
   "source": [
    "# CSS选择器"
   ]
  },
  {
   "cell_type": "code",
   "execution_count": null,
   "metadata": {},
   "outputs": [],
   "source": [
    "# pyquery"
   ]
  },
  {
   "cell_type": "code",
   "execution_count": null,
   "metadata": {
    "tags": []
   },
   "outputs": [],
   "source": [
    "html = '''\n",
    "<div id=\"container\">\n",
    "<ul class=\"list\">\n",
    "<li class=\"item-0\"><a href=\"link1.html\">first item</a></li>\n",
    "<li class=\"item-1\"><a href=\"link2.html\">second item</a></li>\n",
    "<li class=\"item-0 active\"><a href=\"link3.html\"><span class=\"bold\">third item</span></a></li>\n",
    "<li class=\"item-1 active\"><a href=\"link4.html\">forth item</a></li>\n",
    "<li class=\"item-0\"><a href=\"link5.html\">fifth item</a></li>\n",
    "</ul>\n",
    "</div>\n",
    "'''\n",
    "\n",
    "from pyquery import PyQuery as pq\n",
    "doc = pq(html)\n",
    "#print(doc('li'))\n",
    "\n",
    "#css选择器\n",
    "print(doc('#container .list li'))\n",
    "print(type(doc('#container .list li')))"
   ]
  },
  {
   "cell_type": "code",
   "execution_count": null,
   "metadata": {
    "tags": []
   },
   "outputs": [],
   "source": [
    "from pyquery import PyQuery as pq\n",
    "doc = pq(url='https://cuiqingcai.com')\n",
    "print(doc('title'))"
   ]
  },
  {
   "cell_type": "code",
   "execution_count": null,
   "metadata": {
    "tags": []
   },
   "outputs": [],
   "source": [
    "#remove()\n",
    "html = '''\n",
    "<div class=\"wrap\">\n",
    "     Hello, World\n",
    "<p>This is a paragraph.</p>\n",
    "</div>\n",
    "'''\n",
    "\n",
    "from pyquery import PyQuery as pq\n",
    "doc = pq(html)\n",
    "wrap = doc('.wrap')\n",
    "wrap.find('p').remove()\n",
    "print(wrap.text())"
   ]
  },
  {
   "cell_type": "code",
   "execution_count": null,
   "metadata": {},
   "outputs": [],
   "source": []
  }
 ],
 "metadata": {
  "language_info": {
   "codemirror_mode": {
    "name": "ipython",
    "version": 3
   },
   "file_extension": ".py",
   "mimetype": "text/x-python",
   "name": "python",
   "nbconvert_exporter": "python",
   "pygments_lexer": "ipython3",
   "version": "3.7.5-final"
  },
  "orig_nbformat": 2,
  "kernelspec": {
   "name": "python37464bitf8b0acbf0eae459885fa398f07140262",
   "display_name": "Python 3.7.4 64-bit"
  }
 },
 "nbformat": 4,
 "nbformat_minor": 2
}
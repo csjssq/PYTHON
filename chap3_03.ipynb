{
 "cells": [
  {
   "cell_type": "code",
   "execution_count": null,
   "metadata": {},
   "outputs": [],
   "source": [
    "# 正则表达式"
   ]
  },
  {
   "cell_type": "code",
   "execution_count": null,
   "metadata": {},
   "outputs": [],
   "source": [
    "## 开源中国在线正则表达式测试工具 http://tool.oschina.net/regex/"
   ]
  },
  {
   "cell_type": "code",
   "execution_count": null,
   "metadata": {},
   "outputs": [],
   "source": [
    "### 匹配中文字符[\\u4e00-\\u9fa5]\n",
    "### 匹配双字节字符[^\\x00-\\xff]\n",
    "### 匹配空白行\\n\\s*\\r\n",
    "### 匹配Email地址[\\w!#$%&'*+/=?^_`{|}~-]+(?:\\.[\\w!#$%&'*+/=?^_`{|}~-]+)*@(?:[\\w](?:[\\w-]*[\\w])?\\.)+[\\w](?:[\\w-]*[\\w])?\n",
    "### 匹配网址URL[a-zA-z]+://[^\\s]*\n",
    "### 匹配国内电话号码\\d{3}-\\d{8}|\\d{4}-\\{7,8}\n",
    "### 匹配腾讯QQ号[1-9][0-9]{4,}\n",
    "### 匹配中国邮政编码[1-9]\\d{5}(?!\\d)\n",
    "### 匹配18位身份证号^(\\d{6})(\\d{4})(\\d{2})(\\d{2})(\\d{3})([0-9]|X)$\n",
    "### 匹配年月日格式日期([0-9]{3}[1-9]|[0-9]{2}[1-9][0-9]{1}|[0-9]{1}[1-9][0-9]{2}|[1-9][0-9]{3})-(((0[13578]|1[02])-(0[1-9]|[12][0-9]|3[01]))|((0[469]|11)-(0[1-9]|[12][0-9]|30))|(02-(0[1-9]|[1][0-9]|2[0-8])))\n",
    "### 匹配整数^-?[1-9]\\d*$"
   ]
  },
  {
   "cell_type": "code",
   "execution_count": null,
   "metadata": {
    "tags": []
   },
   "outputs": [],
   "source": [
    "import re\n",
    "\n",
    "content = 'Hello 1234567 World_This is a Regex Demo'\n",
    "result = re.match('^Hello\\s(\\d+)\\sWorld',content)\n",
    "print(result)\n",
    "print(result.group())\n",
    "print(result.group(1))\n",
    "print(result.span())"
   ]
  },
  {
   "cell_type": "code",
   "execution_count": null,
   "metadata": {
    "tags": []
   },
   "outputs": [],
   "source": [
    "import re\n",
    "\n",
    "content = 'Hello 1234567 World_This is a Regex Demo'\n",
    "result = re.match('Hello.*Demo$',content)\n",
    "print(result)\n",
    "print(result.group())\n",
    "print(result.span())"
   ]
  },
  {
   "cell_type": "code",
   "execution_count": null,
   "metadata": {
    "tags": []
   },
   "outputs": [],
   "source": [
    "import re\n",
    "\n",
    "content = 'Hello 1234567 World_This is a Regex Demo'\n",
    "result = re.match('He.*(\\d+).*Demo$',content)\n",
    "#.*匹配了123456而(\\d+)匹配了一个可满足的数字7  贪婪法\n",
    "print(result.group(1))"
   ]
  },
  {
   "cell_type": "code",
   "execution_count": null,
   "metadata": {
    "tags": []
   },
   "outputs": [],
   "source": [
    "import re\n",
    "\n",
    "content = 'Hello 1234567 World_This is a Regex Demo'\n",
    "result = re.match('He.*?(\\d+).*Demo$',content)\n",
    "#.*? 非贪婪法\n",
    "print(result.group(1))"
   ]
  },
  {
   "cell_type": "code",
   "execution_count": null,
   "metadata": {
    "tags": []
   },
   "outputs": [],
   "source": [
    "import re\n",
    "\n",
    "content1 = '2020-07-15 12:00'\n",
    "content2 = '2020-07-15 20:35'\n",
    "content3 = '2020-07-16 08:00'\n",
    "pattern = re.compile('\\d{2}:\\d{2}')\n",
    "result1 = re.sub(pattern,'', content1)\n",
    "result2 = re.sub(pattern,'', content2)\n",
    "result3 = re.sub(pattern,'', content3)\n",
    "print(result1,result2,result3)"
   ]
  },
  {
   "cell_type": "code",
   "execution_count": null,
   "metadata": {},
   "outputs": [],
   "source": [
    "## 结束，page150图3-2"
   ]
  }
 ],
 "metadata": {
  "language_info": {
   "codemirror_mode": {
    "name": "ipython",
    "version": 3
   },
   "file_extension": ".py",
   "mimetype": "text/x-python",
   "name": "python",
   "nbconvert_exporter": "python",
   "pygments_lexer": "ipython3",
   "version": "3.7.5-final"
  },
  "orig_nbformat": 2,
  "kernelspec": {
   "name": "python37464bitf8b0acbf0eae459885fa398f07140262",
   "display_name": "Python 3.7.4 64-bit"
  }
 },
 "nbformat": 4,
 "nbformat_minor": 2
}
{
 "cells": [
  {
   "cell_type": "markdown",
   "metadata": {},
   "source": [
    "# markdown\n",
    "## urllib库中的urlopen()实际上以GET方法请求网页相应\n",
    "## requests对应方法为get()"
   ]
  },
  {
   "cell_type": "code",
   "execution_count": null,
   "metadata": {
    "tags": []
   },
   "outputs": [],
   "source": [
    "import requests\n",
    "r = requests.get('https://www.baidu.com/')\n",
    "print(type(r))\n",
    "print(r.status_code)\n",
    "print(type(r.text))\n",
    "print(r.text)\n",
    "print(r.cookies)"
   ]
  },
  {
   "cell_type": "code",
   "execution_count": null,
   "metadata": {
    "tags": []
   },
   "outputs": [],
   "source": [
    "#get请求\n",
    "import requests\n",
    "\n",
    "r = requests.get('http://httpbin.org/get')\n",
    "print(r.text)"
   ]
  },
  {
   "cell_type": "code",
   "execution_count": null,
   "metadata": {
    "tags": []
   },
   "outputs": [],
   "source": [
    "#r = requests.get('http://httpbin.org/get?name=germey&age=22')\n",
    "#利用params\n",
    "\n",
    "import requests\n",
    "\n",
    "data = {\n",
    "    'name':'germey',\n",
    "    'age':22\n",
    "}\n",
    "r = requests.get('http://httpbin.org/get',params=data)\n",
    "print(r.text)\n",
    "\n",
    "#可以直接利用r.json()换成dict格式"
   ]
  },
  {
   "cell_type": "code",
   "execution_count": null,
   "metadata": {
    "tags": []
   },
   "outputs": [],
   "source": [
    "import requests\n",
    "import re\n",
    "\n",
    "headers = {\n",
    "    'User-Agent':'Mozilla/5.0 (Windows NT 10.0; Win64; x64) AppleWebKit/537.36 (KHTML, like Gecko) Chrome/83.0.4103.116 Safari/537.36'\n",
    "}\n",
    "\n",
    "r = requests.get(\"https://www.zhihu.com/explore\",headers = headers)\n",
    "pattern = re.compile('ExploreSpecialCard-contentTitle.*?question_link.*?>(.*?)</a>',re.S)\n",
    "titles = re.findall(pattern,r.text)\n",
    "#print(r.text)\n",
    "print(titles)"
   ]
  },
  {
   "cell_type": "code",
   "execution_count": null,
   "metadata": {},
   "outputs": [],
   "source": [
    "from urllib import parse\n",
    " \n",
    "import re\n",
    "import requests\n",
    " \n",
    "def main():\n",
    "    headers = {'user-agent':'',\n",
    "               'cookie':''\n",
    "    }\n",
    "    base_url = 'https://www.zhihu.com/'\n",
    "    seed_url = parse.urljoin(base_url, 'hot')\n",
    "    resp = requests.get(seed_url, headers=headers )\n",
    "    html = resp.text\n",
    "    match_obj = re.compile(r'<h2 class=\"HotItem-title\">.*?</h2>', re.S)\n",
    "    results = re.findall(match_obj, html)\n",
    "    for item in results:\n",
    "        match_title = r'<h2 class=\"HotItem-title\">(.*?)</h2>'\n",
    "        title = re.findall(match_title, item)[0]\n",
    "        print (title)"
   ]
  }
 ],
 "metadata": {
  "language_info": {
   "codemirror_mode": {
    "name": "ipython",
    "version": 3
   },
   "file_extension": ".py",
   "mimetype": "text/x-python",
   "name": "python",
   "nbconvert_exporter": "python",
   "pygments_lexer": "ipython3",
   "version": "3.7.5-final"
  },
  "orig_nbformat": 2,
  "kernelspec": {
   "name": "python37464bitf8b0acbf0eae459885fa398f07140262",
   "display_name": "Python 3.7.4 64-bit"
  }
 },
 "nbformat": 4,
 "nbformat_minor": 2
}
{
 "cells": [
  {
   "cell_type": "code",
   "execution_count": null,
   "metadata": {},
   "outputs": [],
   "source": [
    "# 数据储存"
   ]
  },
  {
   "cell_type": "code",
   "execution_count": null,
   "metadata": {},
   "outputs": [],
   "source": [
    "## 文件储存"
   ]
  },
  {
   "cell_type": "code",
   "execution_count": null,
   "metadata": {},
   "outputs": [],
   "source": [
    "### TXT文本储存"
   ]
  },
  {
   "cell_type": "code",
   "execution_count": 2,
   "metadata": {},
   "outputs": [],
   "source": [
    "from urllib.parse import urljoin\n",
    "from bs4 import BeautifulSoup\n",
    "import re\n",
    "import requests\n",
    "def get_links():\n",
    "    header={\"User-Agent\":\"BaiduSpider\"}\n",
    "    init_url=\"https://www.zhihu.com/\"\n",
    "    url=urljoin(init_url,\"/explore\")\n",
    "    request = requests.get(url,headers=header)\n",
    "    question_regex = re.compile(r\"^/question\")\n",
    "    special_regex = re.compile(r\"^/special\")\n",
    "    soup = BeautifulSoup(request.text,\"html.parser\")\n",
    "    links_question=dict()\n",
    "    links_special=dict()\n",
    "    for a_q in soup.find_all(\"a\",{\"href\":question_regex}):\n",
    "        links_question[a_q.string]=urljoin(init_url,a_q.attrs[\"href\"])\n",
    "    for a_q in soup.find_all(\"a\",{\"href\":special_regex}):\n",
    "        links_special[a_q.string]=urljoin(init_url,a_q.attrs[\"href\"])\n",
    "    return links_question,links_special\n",
    "if __name__ == \"__main__\":\n",
    "    links_question,links_special=get_links()\n",
    "    with open(\"问题与专题.txt\",\"w\",encoding=\"utf-8\") as f:\n",
    "        f.write(\"问题：\\n\")\n",
    "        for key,value in links_question.items():\n",
    "            f.write(f\"{key}:{value}\\n\")\n",
    "        f.write(\"专题：/n\")\n",
    "        for key,value in links_special.items():\n",
    "            f.write(f\"{key}:{value}\\n\")"
   ]
  },
  {
   "cell_type": "code",
   "execution_count": null,
   "metadata": {},
   "outputs": [],
   "source": [
    "import requests\n",
    "from pyquery import PyQuery as pq\n",
    "url = 'https://www.zhihu.com/collection/43956665'\n",
    "headers = {'User-Agent':'Mozilla/5.0 (Windows NT 10.0; Win64; x64) AppleWebKit/537.36 (KHTML, like Gecko) Chrome/83.0.4103.116 Safari/537.36'}\n",
    "html = requests.get(url,headers=headers).text\n",
    "doc = pq(html)\n",
    "# print(doc)\n",
    "items = doc('.Card CollectionDetailPageItem').items()\n",
    "# print(items)\n",
    "with open('zhihucollection.txt','w',encoding='utf-8') as file:\n",
    "    for item in items:\n",
    "        question = item.find('h2').text()\n",
    "        # print('\\n' + '=' * 30)\n",
    "        # print(question)\n",
    "        # author = item.find('.author-link-line').text()\n",
    "        answer = pq(item.find('.content').html()).text()\n",
    "        # print(answer)\n",
    "        file.write('\\n'.join([question,answer]))\n",
    "        file.write('\\n'  + '=' * 50 + '\\n')"
   ]
  },
  {
   "cell_type": "code",
   "execution_count": null,
   "metadata": {},
   "outputs": [],
   "source": []
  }
 ],
 "metadata": {
  "language_info": {
   "codemirror_mode": {
    "name": "ipython",
    "version": 3
   },
   "file_extension": ".py",
   "mimetype": "text/x-python",
   "name": "python",
   "nbconvert_exporter": "python",
   "pygments_lexer": "ipython3",
   "version": "3.7.5-final"
  },
  "orig_nbformat": 2,
  "kernelspec": {
   "name": "python37464bitf8b0acbf0eae459885fa398f07140262",
   "display_name": "Python 3.7.4 64-bit"
  }
 },
 "nbformat": 4,
 "nbformat_minor": 2
}